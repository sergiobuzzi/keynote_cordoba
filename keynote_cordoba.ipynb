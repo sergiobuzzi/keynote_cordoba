{
 "cells": [
  {
   "cell_type": "code",
   "execution_count": 5,
   "metadata": {
    "slideshow": {
     "slide_type": "skip"
    }
   },
   "outputs": [
    {
     "data": {
      "text/html": [
       "<link rel=\"stylesheet\" type=\"text/css\" href=\"static/custom.css\"/>\n",
       "<link href=\"https://fonts.googleapis.com/css?family=Domine&display=swap\" rel=\"stylesheet\"> \n"
      ],
      "text/plain": [
       "<IPython.core.display.HTML object>"
      ]
     },
     "metadata": {},
     "output_type": "display_data"
    }
   ],
   "source": [
    "%%HTML\n",
    "<link rel=\"stylesheet\" type=\"text/css\" href=\"static/custom.css\"/>\n",
    "<link href=\"https://fonts.googleapis.com/css?family=Domine&display=swap\" rel=\"stylesheet\"> "
   ]
  },
  {
   "cell_type": "markdown",
   "metadata": {
    "slideshow": {
     "slide_type": "slide"
    }
   },
   "source": [
    "# A better PyData ecosystem,<br/>one commit at a time\n",
    "\n",
    "&nbsp;&nbsp;&nbsp;&nbsp;<span class=\"pydata-orange\" style=\"font-style: italic\">by Marc Garcia &lt;<span class=\"pydata-blue\">@datapythonista</span>&gt;</span>"
   ]
  },
  {
   "cell_type": "markdown",
   "metadata": {
    "slideshow": {
     "slide_type": "slide"
    }
   },
   "source": [
    "## About me\n",
    "\n",
    "- <span class=\"highlight\">_pandas_ core developer</span>\n",
    "- Data scienstist contractor\n",
    "  - Worked for companies such as Bank of America, Unilever and Tesco\n",
    "- Computer engineer\n",
    "  - Master degree in AI from the Technical University of Catalonia\n",
    "  - <span class=\"highlight\">Master degree in Finance by EADA Business school</span>\n",
    "- In the Python community since 2006\n",
    "  - <span class=\"highlight\">NumFOCUS ambassador</span>\n",
    "  - PSF fellow\n",
    "  - EuroSciPy co-organizer\n",
    "  - Founder and organizer of London Python sprints\n",
    "  - Co-founder of PyData Mallorca\n",
    "  \n",
    "  <span class=\"highlight\">@datapythonista</span> on Twitter, LinkedIn, GitHub,..."
   ]
  },
  {
   "cell_type": "markdown",
   "metadata": {
    "slideshow": {
     "slide_type": "slide"
    }
   },
   "source": [
    "## PYPL PopularitY of Programming Language\n",
    "\n",
    "<br/><br/><br/>\n",
    "\n",
    "| Rank | Language   | Share   | Trend                                    |\n",
    "|------|------------|---------|------------------------------------------|\n",
    "| 1\t   | Python     | 28.73 % | <span style=\"color: #3cf791\">+4.5 %</span> |\n",
    "| 2\t   | Java       | 20.0 %  | <span style=\"color: #ff4f4f\">-2.1 %</span>   |\n",
    "| 3\t   | Javascript | 8.35 %  | <span style=\"color: #ff4f4f\">-0.1 %</span>   |\n",
    "\n",
    "<br/><br/><br/>\n",
    "\n",
    "Source: http://pypl.github.io/PYPL.html"
   ]
  },
  {
   "cell_type": "markdown",
   "metadata": {
    "slideshow": {
     "slide_type": "slide"
    }
   },
   "source": [
    "## PYPL PopularitY of Programming Language\n",
    "\n",
    "<center>\n",
    "<img alt=\"\" src=\"static/img/pypl.png\"/>\n",
    "</center>\n",
    "\n",
    "Source: http://pypl.github.io/PYPL.html"
   ]
  },
  {
   "cell_type": "markdown",
   "metadata": {
    "slideshow": {
     "slide_type": "slide"
    }
   },
   "source": [
    "## The Incredible Growth of Python\n",
    "\n",
    "<center>\n",
    "<img alt=\"\" src=\"static/img/stackoverflow.png\"/>\n",
    "</center>\n",
    "\n",
    "Source: https://stackoverflow.blog/2017/09/06/incredible-growth-python/"
   ]
  },
  {
   "cell_type": "markdown",
   "metadata": {
    "slideshow": {
     "slide_type": "slide"
    }
   },
   "source": [
    "<center>\n",
    "<img alt=\"\" src=\"static/img/churchill.jpeg\"/>\n",
    "</center>"
   ]
  },
  {
   "cell_type": "markdown",
   "metadata": {
    "slideshow": {
     "slide_type": "slide"
    }
   },
   "source": [
    "## pandas downloads via pip\n",
    "\n",
    "<center>\n",
    "<img alt=\"\" src=\"static/img/pypi_downloads.png\"/>\n",
    "</center>\n",
    "\n",
    "Source: https://pypistats.org/"
   ]
  },
  {
   "cell_type": "markdown",
   "metadata": {
    "slideshow": {
     "slide_type": "slide"
    }
   },
   "source": [
    "## pandas downloads via conda\n",
    "\n",
    "<center>\n",
    "<img alt=\"\" src=\"static/img/conda_downloads.png\"/>\n",
    "</center>\n",
    "\n",
    "Source: https://github.com/ContinuumIO/anaconda-package-data"
   ]
  },
  {
   "cell_type": "markdown",
   "metadata": {
    "slideshow": {
     "slide_type": "slide"
    }
   },
   "source": [
    "## pandas visits to the website\n",
    "\n",
    "<center>\n",
    "<img alt=\"\" src=\"static/img/pandas_web_pageviews.png\"/>\n",
    "</center>\n",
    "\n",
    "Source: pandas website tracking"
   ]
  },
  {
   "cell_type": "markdown",
   "metadata": {
    "slideshow": {
     "slide_type": "slide"
    }
   },
   "source": [
    "## And not only pandas...\n",
    "\n",
    "<center>\n",
    "<img alt=\"\" src=\"static/img/numfocus_projects.png\"/>\n",
    "</center>\n",
    "\n",
    "And all other projects of the ecosystem"
   ]
  },
  {
   "cell_type": "markdown",
   "metadata": {
    "slideshow": {
     "slide_type": "slide"
    }
   },
   "source": [
    "<center><span class=\"huge\">Why?</span></center>"
   ]
  },
  {
   "cell_type": "markdown",
   "metadata": {
    "slideshow": {
     "slide_type": "slide"
    }
   },
   "source": [
    "# TEAM WORK\n",
    "\n",
    "<center>\n",
    "<img alt=\"\" src=\"static/img/cube_team_work.svg\"/>\n",
    "</center>"
   ]
  },
  {
   "cell_type": "markdown",
   "metadata": {
    "slideshow": {
     "slide_type": "slide"
    }
   },
   "source": [
    "## \"hello world\" of project management\n",
    "\n",
    "<br/><br/><br/><br/>\n",
    "\n",
    "<h3 style=\"text-align: center\">Spaghetti tower marshmallow challenge</h3>\n",
    "\n",
    "<br/><br/><br/><br/><br/><br/><br/><br/><br/>"
   ]
  },
  {
   "cell_type": "markdown",
   "metadata": {
    "slideshow": {
     "slide_type": "slide"
    }
   },
   "source": [
    "<center><img src=\"static/img/marshmallow_challenge/spaghetti.jpeg\"/></center>"
   ]
  },
  {
   "cell_type": "markdown",
   "metadata": {
    "slideshow": {
     "slide_type": "slide"
    }
   },
   "source": [
    "<center><img src=\"static/img/marshmallow_challenge/tape.jpeg\"/></center>"
   ]
  },
  {
   "cell_type": "markdown",
   "metadata": {
    "slideshow": {
     "slide_type": "slide"
    }
   },
   "source": [
    "<center><img src=\"static/img/marshmallow_challenge/string.jpeg\"/></center>"
   ]
  },
  {
   "cell_type": "markdown",
   "metadata": {
    "slideshow": {
     "slide_type": "slide"
    }
   },
   "source": [
    "<center><img src=\"static/img/marshmallow_challenge/marshmallow.jpeg\"/></center>"
   ]
  },
  {
   "cell_type": "markdown",
   "metadata": {
    "slideshow": {
     "slide_type": "slide"
    }
   },
   "source": [
    "<center><img src=\"static/img/marshmallow_challenge/team.jpeg\"/></center>"
   ]
  },
  {
   "cell_type": "markdown",
   "metadata": {
    "slideshow": {
     "slide_type": "slide"
    }
   },
   "source": [
    "<center><img src=\"static/img/marshmallow_challenge/time.jpeg\"/></center>"
   ]
  },
  {
   "cell_type": "markdown",
   "metadata": {
    "slideshow": {
     "slide_type": "slide"
    }
   },
   "source": [
    "## Goal\n",
    "\n",
    "<center><img src=\"static/img/marshmallow_challenge/tower.jpeg\"/></center>"
   ]
  },
  {
   "cell_type": "markdown",
   "metadata": {
    "slideshow": {
     "slide_type": "slide"
    }
   },
   "source": [
    "<center><img src=\"static/img/marshmallow_challenge/results_1.svg\"/></center>"
   ]
  },
  {
   "cell_type": "markdown",
   "metadata": {
    "slideshow": {
     "slide_type": "slide"
    }
   },
   "source": [
    "<center><img src=\"static/img/marshmallow_challenge/results_2.svg\"/></center>"
   ]
  },
  {
   "cell_type": "markdown",
   "metadata": {
    "slideshow": {
     "slide_type": "slide"
    }
   },
   "source": [
    "<center><img src=\"static/img/marshmallow_challenge/results_3.svg\"/></center>"
   ]
  },
  {
   "cell_type": "markdown",
   "metadata": {
    "slideshow": {
     "slide_type": "slide"
    }
   },
   "source": [
    "<center><img src=\"static/img/marshmallow_challenge/results_4.svg\"/></center>"
   ]
  },
  {
   "cell_type": "markdown",
   "metadata": {
    "slideshow": {
     "slide_type": "slide"
    }
   },
   "source": [
    "<center><img src=\"static/img/marshmallow_challenge/results_5.svg\"/></center>"
   ]
  },
  {
   "cell_type": "markdown",
   "metadata": {
    "slideshow": {
     "slide_type": "slide"
    }
   },
   "source": [
    "<center><img src=\"static/img/marshmallow_challenge/results_6.svg\"/></center>"
   ]
  },
  {
   "cell_type": "markdown",
   "metadata": {
    "slideshow": {
     "slide_type": "slide"
    }
   },
   "source": [
    "## Key takeaways"
   ]
  },
  {
   "cell_type": "markdown",
   "metadata": {
    "slideshow": {
     "slide_type": "fragment"
    }
   },
   "source": [
    "- Experience is important"
   ]
  },
  {
   "cell_type": "markdown",
   "metadata": {
    "slideshow": {
     "slide_type": "fragment"
    }
   },
   "source": [
    "- Iteratible development beats planning"
   ]
  },
  {
   "cell_type": "markdown",
   "metadata": {
    "slideshow": {
     "slide_type": "fragment"
    }
   },
   "source": [
    "- Power seeking and poor team working kills productivity"
   ]
  },
  {
   "cell_type": "markdown",
   "metadata": {
    "slideshow": {
     "slide_type": "fragment"
    }
   },
   "source": [
    "- Money or pressure does not fix development problems"
   ]
  },
  {
   "cell_type": "markdown",
   "metadata": {
    "slideshow": {
     "slide_type": "slide"
    }
   },
   "source": [
    "## What does this mean for the open source community?\n",
    "\n",
    "**Iterative process** by nature\n",
    "\n",
    "- No hard deadlines\n",
    "- One commit at a time"
   ]
  },
  {
   "cell_type": "markdown",
   "metadata": {
    "slideshow": {
     "slide_type": "slide"
    }
   },
   "source": [
    "## What does this mean for the open source community?\n",
    "\n",
    "**Collaboration** more than competition\n",
    "\n",
    "- Shared goals (also when projects seem to compete)\n",
    "- Lack of authority\n",
    "- Leadership factors in (online) open source projects:\n",
    "  - Hard work and commitment\n",
    "  - Technical contribution\n",
    "  - Social interactions"
   ]
  },
  {
   "cell_type": "markdown",
   "metadata": {
    "slideshow": {
     "slide_type": "slide"
    }
   },
   "source": [
    "## What does this mean for the open source community?\n",
    "\n",
    "**Motivation** is rarely based on money\n",
    "\n",
    "- Money is of course not a problem, and is obviously needed\n",
    "- People does need to have motivation, there are other sources:\n",
    "  - Learning\n",
    "  - Impact\n",
    "  - Compassion"
   ]
  },
  {
   "cell_type": "markdown",
   "metadata": {
    "slideshow": {
     "slide_type": "slide"
    }
   },
   "source": [
    "## Compassion\n",
    "\n",
    "What are we trying to achieve?\n",
    "\n",
    "- Help\n",
    "- Share\n",
    "- Empower\n",
    "- Teach\n",
    "- ...\n",
    "- Make other people happy"
   ]
  },
  {
   "cell_type": "markdown",
   "metadata": {
    "slideshow": {
     "slide_type": "slide"
    }
   },
   "source": [
    "## Compassion\n",
    "\n",
    "- **Stress** is caused by a continuous activation of parts of the brain related to problem solving\n",
    "\n",
    "\n",
    "- Stress is one of the main causes of **micromanagement** and poor team working in general\n",
    "\n",
    "\n",
    "- **Being compasionate** relieves us from stress, and makes us happier\n",
    "\n",
    "\n",
    "Source: https://www.coursera.org/learn/emotional-intelligence-leadership"
   ]
  },
  {
   "cell_type": "markdown",
   "metadata": {
    "slideshow": {
     "slide_type": "slide"
    }
   },
   "source": [
    "## Also compassionate about them\n",
    "\n",
    "<center>\n",
    "<img alt=\"\" style=\"width: 600px\" src=\"static/img/cat.gif\"/>\n",
    "</center>"
   ]
  },
  {
   "cell_type": "markdown",
   "metadata": {
    "slideshow": {
     "slide_type": "slide"
    }
   },
   "source": [
    "## Compassion: Inequality\n",
    "\n",
    "<table>\n",
    "    <tr>\n",
    "        <td>\n",
    "            <img alt=\"\" src=\"static/img/poor.jpeg\"/>\n",
    "        </td>\n",
    "        <td>\n",
    "            <img alt=\"\" src=\"static/img/rich.jpeg\"/>\n",
    "        </td>\n",
    "    </tr>\n",
    "</table>"
   ]
  },
  {
   "cell_type": "markdown",
   "metadata": {
    "slideshow": {
     "slide_type": "slide"
    }
   },
   "source": [
    "## Compassion: Opportunities\n",
    "\n",
    "<table>\n",
    "    <tr>\n",
    "        <td>\n",
    "            <img alt=\"\" src=\"static/img/traders.jpeg\"/>\n",
    "        </td>\n",
    "        <td>\n",
    "            <img alt=\"\" src=\"static/img/school.png\"/>\n",
    "        </td>\n",
    "        <td>\n",
    "            <img alt=\"\" src=\"static/img/scientists.jpeg\"/>\n",
    "        </td>\n",
    "    </tr>\n",
    "</table>"
   ]
  },
  {
   "cell_type": "markdown",
   "metadata": {
    "slideshow": {
     "slide_type": "slide"
    }
   },
   "source": [
    "# DIVERSITY\n",
    "\n",
    "<center>\n",
    "<img alt=\"\" src=\"static/img/cube_diversity.svg\"/>\n",
    "</center>"
   ]
  },
  {
   "cell_type": "markdown",
   "metadata": {
    "slideshow": {
     "slide_type": "slide"
    }
   },
   "source": [
    "<center>\n",
    "<img alt=\"\" src=\"static/img/shaolin_temple.jpeg\"/>\n",
    "</center>"
   ]
  },
  {
   "cell_type": "markdown",
   "metadata": {
    "slideshow": {
     "slide_type": "slide"
    }
   },
   "source": [
    "<center>\n",
    "<img alt=\"\" src=\"static/img/factory.jpeg\"/>\n",
    "</center>"
   ]
  },
  {
   "cell_type": "markdown",
   "metadata": {
    "slideshow": {
     "slide_type": "slide"
    }
   },
   "source": [
    "<center>\n",
    "<img alt=\"\" src=\"static/img/diversity/labor_1.svg\"/>\n",
    "</center>"
   ]
  },
  {
   "cell_type": "markdown",
   "metadata": {
    "slideshow": {
     "slide_type": "slide"
    }
   },
   "source": [
    "<center>\n",
    "<img alt=\"\" src=\"static/img/diversity/labor_2.svg\"/>\n",
    "</center>"
   ]
  },
  {
   "cell_type": "markdown",
   "metadata": {
    "slideshow": {
     "slide_type": "slide"
    }
   },
   "source": [
    "<center>\n",
    "<img alt=\"\" src=\"static/img/diversity/labor_4.svg\"/>\n",
    "</center>"
   ]
  },
  {
   "cell_type": "markdown",
   "metadata": {
    "slideshow": {
     "slide_type": "slide"
    }
   },
   "source": [
    "<center>\n",
    "<img alt=\"\" src=\"static/img/board_of_directors.jpeg\"/>\n",
    "</center>"
   ]
  },
  {
   "cell_type": "markdown",
   "metadata": {
    "slideshow": {
     "slide_type": "slide"
    }
   },
   "source": [
    "<center>\n",
    "<img alt=\"\" src=\"static/img/diversity/talent_1.svg\"/>\n",
    "</center>"
   ]
  },
  {
   "cell_type": "markdown",
   "metadata": {
    "slideshow": {
     "slide_type": "slide"
    }
   },
   "source": [
    "<center>\n",
    "<img alt=\"\" src=\"static/img/diversity/talent_2.svg\"/>\n",
    "</center>"
   ]
  },
  {
   "cell_type": "markdown",
   "metadata": {
    "slideshow": {
     "slide_type": "slide"
    }
   },
   "source": [
    "<center>\n",
    "<img alt=\"\" src=\"static/img/diversity/talent_3.svg\"/>\n",
    "</center>"
   ]
  },
  {
   "cell_type": "markdown",
   "metadata": {
    "slideshow": {
     "slide_type": "slide"
    }
   },
   "source": [
    "<center>\n",
    "<img alt=\"\" src=\"static/img/diversity/talent_4.svg\"/>\n",
    "</center>"
   ]
  },
  {
   "cell_type": "markdown",
   "metadata": {
    "slideshow": {
     "slide_type": "slide"
    }
   },
   "source": [
    "<center>\n",
    "<img alt=\"\" src=\"static/img/diversity/talent_5.svg\"/>\n",
    "</center>"
   ]
  },
  {
   "cell_type": "markdown",
   "metadata": {
    "slideshow": {
     "slide_type": "slide"
    }
   },
   "source": [
    "<center>\n",
    "<img alt=\"\" src=\"static/img/diversity/talent_6.svg\"/>\n",
    "</center>"
   ]
  },
  {
   "cell_type": "markdown",
   "metadata": {
    "slideshow": {
     "slide_type": "slide"
    }
   },
   "source": [
    "<center>\n",
    "<img alt=\"\" src=\"static/img/soldiers.jpeg\"/>\n",
    "</center>"
   ]
  },
  {
   "cell_type": "markdown",
   "metadata": {
    "slideshow": {
     "slide_type": "slide"
    }
   },
   "source": [
    "## Example board of directors\n",
    "\n",
    "<center>\n",
    "<img alt=\"\" src=\"static/img/walmart.png\"/>\n",
    "</center>"
   ]
  },
  {
   "cell_type": "markdown",
   "metadata": {
    "slideshow": {
     "slide_type": "slide"
    }
   },
   "source": [
    "## Diversity in finance\n",
    "\n",
    "Our findings suggest that banks' continued voluntary expansion of board gender diversity is likely to bring overall performance benefits for well-capitalized (well-managed) banks.\n",
    "\n",
    "Federal reserve notes, 2019\n",
    "\n",
    "Source: https://www.federalreserve.gov/econres/notes/feds-notes/gender-diversity-on-bank-board-of-directors-and-performance-20190212.htm"
   ]
  },
  {
   "cell_type": "markdown",
   "metadata": {
    "slideshow": {
     "slide_type": "slide"
    }
   },
   "source": [
    "<table>\n",
    "    <tr>\n",
    "        <td>\n",
    "            <img alt=\"\" src=\"static/img/slavery.jpeg\"/>\n",
    "        </td>\n",
    "        <td>\n",
    "            <img alt=\"\" src=\"static/img/spanish_inquisition.jpeg\"/>\n",
    "        </td>\n",
    "        <td>\n",
    "            <img alt=\"\" src=\"static/img/domestic_violence.png\"/>\n",
    "        </td>\n",
    "    </tr>\n",
    "</table>"
   ]
  },
  {
   "cell_type": "markdown",
   "metadata": {
    "slideshow": {
     "slide_type": "slide"
    }
   },
   "source": [
    "<center>\n",
    "<img alt=\"\" src=\"static/img/somerset_house.jpeg\"/>\n",
    "</center>"
   ]
  },
  {
   "cell_type": "markdown",
   "metadata": {
    "slideshow": {
     "slide_type": "slide"
    }
   },
   "source": [
    "<table>\n",
    "    <tr>\n",
    "        <td>\n",
    "            <img alt=\"\" src=\"static/img/bill_gates.jpeg\"/>\n",
    "        </td>\n",
    "        <td>\n",
    "            <img alt=\"\" src=\"static/img/steve_jobs.jpeg\"/>\n",
    "        </td>\n",
    "        <td>\n",
    "            <img alt=\"\" src=\"static/img/linus.jpeg\"/>\n",
    "        </td>\n",
    "    </tr>\n",
    "</table>"
   ]
  },
  {
   "cell_type": "markdown",
   "metadata": {
    "slideshow": {
     "slide_type": "slide"
    }
   },
   "source": [
    "<center>\n",
    "<img alt=\"\" src=\"static/img/sprint.jpeg\"/>\n",
    "</center>"
   ]
  },
  {
   "cell_type": "markdown",
   "metadata": {
    "slideshow": {
     "slide_type": "slide"
    }
   },
   "source": [
    "<center>\n",
    "<img alt=\"\" src=\"static/img/sprint_minorities.jpeg\"/>\n",
    "</center>"
   ]
  },
  {
   "cell_type": "markdown",
   "metadata": {
    "slideshow": {
     "slide_type": "slide"
    }
   },
   "source": [
    "<center>\n",
    "<img alt=\"\" src=\"static/img/sprint_mixed.jpeg\"/>\n",
    "</center>"
   ]
  },
  {
   "cell_type": "markdown",
   "metadata": {
    "slideshow": {
     "slide_type": "slide"
    }
   },
   "source": [
    "# CHANGE\n",
    "\n",
    "<center>\n",
    "<img alt=\"\" src=\"static/img/cube_change.svg\"/>\n",
    "</center>"
   ]
  },
  {
   "cell_type": "markdown",
   "metadata": {
    "slideshow": {
     "slide_type": "slide"
    }
   },
   "source": []
  },
  {
   "cell_type": "markdown",
   "metadata": {
    "slideshow": {
     "slide_type": "slide"
    }
   },
   "source": []
  },
  {
   "cell_type": "markdown",
   "metadata": {
    "slideshow": {
     "slide_type": "slide"
    }
   },
   "source": []
  },
  {
   "cell_type": "markdown",
   "metadata": {
    "slideshow": {
     "slide_type": "slide"
    }
   },
   "source": []
  },
  {
   "cell_type": "markdown",
   "metadata": {
    "slideshow": {
     "slide_type": "slide"
    }
   },
   "source": [
    "impact (mentoring, contributing, financing...)\n",
    "How companies work? Board of directors, CEO...\n",
    "adding talent = union\n",
    "\n",
    "\n",
    "TEAM WORK\n",
    "\n",
    "- spaghetti tower marshmallow challenge\n",
    "- managers, talk, bold, voice (first time pandas maintainers met)\n",
    "- Corporate structure, BoD, CEO... higherarical structure\n",
    "- inspiring leadership through emotional intelligence, compasion, open source goal, motivations to contribute\n",
    "- NumFOCUS (admin structure) + PyData community (connected, example worldwide sprint)\n",
    "\n",
    "CHANGE\n",
    "\n",
    "- Guido\n",
    "  - python (readability \"not in\" operator, batteries included)\n",
    "- Travis\n",
    "- Maren\n",
    "- Wes\n",
    "- Enfa Rose George\n",
    "- Ian\n",
    "\n",
    "DIVERSITY / INCLUSION\n",
    "\n",
    "- Be nice\n",
    "- Talent\n",
    "- Adding talent = union, not sum\n",
    "- Board of directors"
   ]
  },
  {
   "cell_type": "markdown",
   "metadata": {
    "slideshow": {
     "slide_type": "slide"
    }
   },
   "source": [
    "<center><span class=\"huge\">Gracias!</span></center>"
   ]
  },
  {
   "cell_type": "markdown",
   "metadata": {
    "slideshow": {
     "slide_type": "slide"
    }
   },
   "source": [
    "## References\n",
    "\n",
    "Spaghetti tower marshmallow challenge\n",
    "\n",
    "- https://www.youtube.com/watch?v=1p5sBzMtB3Q\n",
    "- https://www.ted.com/talks/tom_wujec_build_a_tower\n",
    "- https://hbr.org/2014/12/innovation-leadership-lessons-from-the-marshmallow-challenge\n",
    "\n",
    "Leadership\n",
    "\n",
    "- http://professormarkvanvugt.com/images/files/heighlteadeshipGPIR.pdf\n",
    "- http://opim.wharton.upenn.edu/DPlab/papers/publishedPapers/Mannes_2012_%20Shorn%20scalps%20and%20perceptions%20of%20male%20dominance.pdf\n",
    "\n",
    "Motivation\n",
    "\n",
    "- https://hbr.org/2013/04/does-money-really-affect-motiv"
   ]
  },
  {
   "cell_type": "code",
   "execution_count": 51,
   "metadata": {
    "slideshow": {
     "slide_type": "skip"
    }
   },
   "outputs": [],
   "source": [
    "# Plots of the spaghetti tower marshmallow challenge results\n",
    "%matplotlib inline\n",
    "import pandas\n",
    "import matplotlib\n",
    "from matplotlib import pyplot\n",
    "\n",
    "matplotlib.rcParams.update({'font.size': 22})\n",
    "\n",
    "inches = {\n",
    "    'Average': 20,\n",
    "    'Architects and engineers': 40,\n",
    "    'Kindergarteners': 28,\n",
    "    'Business school students': 10,\n",
    "    'CEOs': 22,\n",
    "    'Business school students\\n(when offered $10,000)': 0.001}\n",
    "\n",
    "for size in range(1, len(inches) + 1):\n",
    "    data = pandas.Series(inches)\n",
    "    ax = data.head(size)[::-1].plot.barh()\n",
    "    pyplot.axvline(20, c='r')\n",
    "    pyplot.xlim(None, 44)\n",
    "    pyplot.xlabel('Average tower height (inches)')\n",
    "    pyplot.tight_layout()\n",
    "    pyplot.savefig(f'static/img/marshmallow_challenge/results_{size}.svg')\n",
    "    pyplot.close()"
   ]
  }
 ],
 "metadata": {
  "celltoolbar": "Slideshow",
  "kernelspec": {
   "display_name": "Python 3",
   "language": "python",
   "name": "python3"
  },
  "language_info": {
   "codemirror_mode": {
    "name": "ipython",
    "version": 3
   },
   "file_extension": ".py",
   "mimetype": "text/x-python",
   "name": "python",
   "nbconvert_exporter": "python",
   "pygments_lexer": "ipython3",
   "version": "3.7.4"
  }
 },
 "nbformat": 4,
 "nbformat_minor": 2
}
