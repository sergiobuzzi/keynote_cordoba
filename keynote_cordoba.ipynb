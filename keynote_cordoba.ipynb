{
 "cells": [
  {
   "cell_type": "code",
   "execution_count": 16,
   "metadata": {
    "slideshow": {
     "slide_type": "skip"
    }
   },
   "outputs": [
    {
     "data": {
      "text/html": [
       "<link rel=\"stylesheet\" type=\"text/css\" href=\"static/custom.css\"/>\n",
       "<link href=\"https://fonts.googleapis.com/css?family=Domine&display=swap\" rel=\"stylesheet\"> \n"
      ],
      "text/plain": [
       "<IPython.core.display.HTML object>"
      ]
     },
     "metadata": {},
     "output_type": "display_data"
    }
   ],
   "source": [
    "%%HTML\n",
    "<link rel=\"stylesheet\" type=\"text/css\" href=\"static/custom.css\"/>\n",
    "<link href=\"https://fonts.googleapis.com/css?family=Domine&display=swap\" rel=\"stylesheet\"> "
   ]
  },
  {
   "cell_type": "markdown",
   "metadata": {
    "slideshow": {
     "slide_type": "slide"
    }
   },
   "source": [
    "# A better PyData ecosystem,<br/>one commit at a time\n",
    "\n",
    "&nbsp;&nbsp;&nbsp;&nbsp;<span class=\"pydata-orange\" style=\"font-style: italic\">by Marc Garcia &lt;<span class=\"pydata-blue\">@datapythonista</span>&gt;</span>"
   ]
  },
  {
   "cell_type": "markdown",
   "metadata": {
    "slideshow": {
     "slide_type": "slide"
    }
   },
   "source": [
    "## About me\n",
    "\n",
    "- <span class=\"highlight\">_pandas_ core developer</span>\n",
    "- Data scienstist contractor\n",
    "  - Worked for companies such as Bank of America, Unilever and Tesco\n",
    "- Computer engineer\n",
    "  - Master degree in AI from the Technical University of Catalonia\n",
    "  - <span class=\"highlight\">Master degree in Finance by EADA Business school</span>\n",
    "- In the Python community since 2006\n",
    "  - <span class=\"highlight\">NumFOCUS ambassador</span>\n",
    "  - PSF fellow\n",
    "  - EuroSciPy co-organizer\n",
    "  - Founder and organizer of London Python sprints\n",
    "  - Co-founder of PyData Mallorca\n",
    "  \n",
    "  <span class=\"highlight\">@datapythonista</span> on Twitter, LinkedIn, GitHub,..."
   ]
  },
  {
   "cell_type": "markdown",
   "metadata": {
    "slideshow": {
     "slide_type": "slide"
    }
   },
   "source": [
    "## PYPL PopularitY of Programming Language\n",
    "\n",
    "<br/><br/><br/>\n",
    "\n",
    "| Rank | Language   | Share   | Trend                                    |\n",
    "|------|------------|---------|------------------------------------------|\n",
    "| 1\t   | Python     | 28.73 % | <span style=\"color: #3cf791\">+4.5 %</span> |\n",
    "| 2\t   | Java       | 20.0 %  | <span style=\"color: #ff4f4f\">-2.1 %</span>   |\n",
    "| 3\t   | Javascript | 8.35 %  | <span style=\"color: #ff4f4f\">-0.1 %</span>   |\n",
    "\n",
    "<br/><br/><br/>\n",
    "\n",
    "Source: http://pypl.github.io/PYPL.html"
   ]
  },
  {
   "cell_type": "markdown",
   "metadata": {
    "slideshow": {
     "slide_type": "slide"
    }
   },
   "source": [
    "## PYPL PopularitY of Programming Language\n",
    "\n",
    "![](static/img/pypl.png)\n",
    "\n",
    "Source: http://pypl.github.io/PYPL.html"
   ]
  },
  {
   "cell_type": "markdown",
   "metadata": {
    "slideshow": {
     "slide_type": "slide"
    }
   },
   "source": [
    "## The Incredible Growth of Python\n",
    "\n",
    "![](static/img/stackoverflow.png)\n",
    "\n",
    "Source: https://stackoverflow.blog/2017/09/06/incredible-growth-python/"
   ]
  },
  {
   "cell_type": "markdown",
   "metadata": {
    "slideshow": {
     "slide_type": "slide"
    }
   },
   "source": [
    "<center>\n",
    "<img alt=\"\" src=\"static/img/churchill.jpeg\"/>\n",
    "</center>"
   ]
  },
  {
   "cell_type": "markdown",
   "metadata": {
    "slideshow": {
     "slide_type": "slide"
    }
   },
   "source": [
    "## pandas downloads via pip\n",
    "\n",
    "![](static/img/pypi_downloads.png)\n",
    "\n",
    "Source: https://pypistats.org/"
   ]
  },
  {
   "cell_type": "markdown",
   "metadata": {
    "slideshow": {
     "slide_type": "slide"
    }
   },
   "source": [
    "## pandas downloads via conda\n",
    "\n",
    "![](static/img/conda_downloads.png)\n",
    "\n",
    "Source: https://github.com/ContinuumIO/anaconda-package-data"
   ]
  },
  {
   "cell_type": "markdown",
   "metadata": {
    "slideshow": {
     "slide_type": "slide"
    }
   },
   "source": [
    "<center><span class=\"huge\">Why?</span></center>"
   ]
  },
  {
   "cell_type": "markdown",
   "metadata": {
    "slideshow": {
     "slide_type": "slide"
    }
   },
   "source": [
    "<center><span class=\"huge\">Gracias!</span></center>"
   ]
  }
 ],
 "metadata": {
  "celltoolbar": "Slideshow",
  "kernelspec": {
   "display_name": "Python 3",
   "language": "python",
   "name": "python3"
  },
  "language_info": {
   "codemirror_mode": {
    "name": "ipython",
    "version": 3
   },
   "file_extension": ".py",
   "mimetype": "text/x-python",
   "name": "python",
   "nbconvert_exporter": "python",
   "pygments_lexer": "ipython3",
   "version": "3.7.4"
  }
 },
 "nbformat": 4,
 "nbformat_minor": 2
}
